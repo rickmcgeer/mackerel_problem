{
 "cells": [
  {
   "cell_type": "markdown",
   "metadata": {},
   "source": [
    "This Notebook solves the \"Mackerel\" problem in the Puzzler (https://fivethirtyeight.com/features/somethings-fishy-in-the-state-of-the-riddler/) of May 22, 2020.  A \"mackerel\" in this case is a word which has no letters in common with exactly one state.  \"Mackerel\" has no letters in common with \"Ohio\", but it does have letters in common with every other state.  The idea is to find: (a) the longest mackerel ; and (b) the state with the most mackerels.\n",
    "Peter Norvig has a convenient list of all 263,534 words in the English Language.  So Step 1 is to get all of those words and sort them in descending order by length\n",
    "\n"
   ]
  },
  {
   "cell_type": "code",
   "execution_count": 25,
   "metadata": {},
   "outputs": [],
   "source": [
    "import urllib.request\n",
    "with urllib.request.urlopen('https://norvig.com/ngrams/word.list') as response:\n",
    "   word_list_raw = response.read()\n",
    "word_list_str = word_list_raw.decode()\n",
    "word_list = word_list_str.split('\\n')\n",
    "word_list_sorted = sorted(word_list, reverse = True, key = lambda s: len(s))"
   ]
  },
  {
   "cell_type": "markdown",
   "metadata": {},
   "source": [
    "Now that we have done that, define the states:"
   ]
  },
  {
   "cell_type": "code",
   "execution_count": 26,
   "metadata": {},
   "outputs": [],
   "source": [
    "states=[\"Alabama\", \"Alaska\", \"Arizona\", \"Arkansas\", \"California\", \"Colorado\", \"Connecticut\", \"Delaware\", \"Florida\", \"Georgia\", \"Hawaii\", \"Idaho\", \"Illinois\", \"Indiana\", \"Iowa\", \"Kansas\", \"Kentucky\", \"Louisiana\", \"Maine\", \"Maryland\", \"Massachusetts\", \"Michigan\", \"Minnesota\", \"Mississippi\", \"Missouri\", \"Montana\", \"Nebraska\", \"Nevada\", \"New Hampshire\", \"New Jersey\", \"New Mexico\", \"New York\", \"North Carolina\", \"North Dakota\", \"Ohio\", \"Oklahoma\", \"Oregon\", \"Pennsylvania\", \"Rhode Island\", \"South Carolina\", \"South Dakota\", \"Tennessee\", \"Texas\", \"Utah\", \"Vermont\", \"Virginia\", \"Washington\", \"West Virginia\", \"Wisconsin\", \"Wyoming\"]"
   ]
  },
  {
   "cell_type": "markdown",
   "metadata": {},
   "source": [
    "This is the principal class we'll use: it has a word (which should be all lower case), a set of the letters of that word, and, optionally, a state name.  Its principal function, given another WordSet, is to determine if there is any overlap between its letters and the letters of the other WordSet.  When creating the set, canonize it by lower-casing the word and removing any blanks (these occur in state names, e.g., North Dakota)"
   ]
  },
  {
   "cell_type": "code",
   "execution_count": 27,
   "metadata": {},
   "outputs": [],
   "source": [
    "class WordSet:\n",
    "  def __init__(self, word):\n",
    "    self.word = word\n",
    "    self.letterSet = set(word.lower()) - {' '}\n",
    "\n",
    "  def overlap(self, otherSet):\n",
    "    return bool(self.letterSet.intersection(otherSet.letterSet))"
   ]
  },
  {
   "cell_type": "markdown",
   "metadata": {},
   "source": [
    "Convert the word_list and states into lists of WordSets"
   ]
  },
  {
   "cell_type": "code",
   "execution_count": 28,
   "metadata": {},
   "outputs": [],
   "source": [
    "word_sets = [WordSet(word) for word in word_list_sorted]\n",
    "state_sets = [WordSet(state) for state in states]"
   ]
  },
  {
   "cell_type": "markdown",
   "metadata": {},
   "source": [
    "Does a word match only one state?  If it does, return it, otherwise return None"
   ]
  },
  {
   "cell_type": "code",
   "execution_count": 31,
   "metadata": {},
   "outputs": [],
   "source": [
    "def match_only_one_state(word_set):\n",
    "    matches = [state_set.word for state_set in state_sets if not word_set.overlap(state_set)]\n",
    "    return matches[0] if len(matches) == 1 else None"
   ]
  },
  {
   "cell_type": "markdown",
   "metadata": {},
   "source": [
    "Find all of the longest Mackerels and, for each one, the state it matches."
   ]
  },
  {
   "cell_type": "code",
   "execution_count": 36,
   "metadata": {},
   "outputs": [
    {
     "data": {
      "text/plain": [
       "'Mackerel Length: 23'"
      ]
     },
     "execution_count": 36,
     "metadata": {},
     "output_type": "execute_result"
    }
   ],
   "source": [
    "i = 0\n",
    "for word_set in word_sets:\n",
    "    i += 1\n",
    "    mackerel_state = match_only_one_state(word_set)\n",
    "    # If we have one, this is the longest mackerel!  Remember its length to get the ties\n",
    "    if (mackerel_state):\n",
    "        mackerels = [(word_set.word, mackerel_state)]\n",
    "        mackerel_length = len(word_set.word)\n",
    "        remaining_words = word_sets[i:]\n",
    "        break\n",
    "\"Mackerel Length: %d\" % mackerel_length"
   ]
  },
  {
   "cell_type": "markdown",
   "metadata": {},
   "source": [
    "Found the first and found the length, just find the ties.  Note we only have to look at words of length mackerel_length"
   ]
  },
  {
   "cell_type": "code",
   "execution_count": 37,
   "metadata": {},
   "outputs": [
    {
     "name": "stdout",
     "output_type": "stream",
     "text": [
      "counterproductivenesses, Alabama\n",
      "hydrochlorofluorocarbon, Mississippi\n"
     ]
    }
   ],
   "source": [
    "for word_set in remaining_words:\n",
    "    if (len(word_set.word) < mackerel_length):\n",
    "        break\n",
    "    mackerel_state = match_only_one_state(word_set)\n",
    "    if (mackerel_state):\n",
    "        mackerels.append((word_set.word, mackerel_state))\n",
    "# Print them nicely\n",
    "for mackerel in mackerels:\n",
    "    print(', '.join(mackerel))"
   ]
  },
  {
   "cell_type": "markdown",
   "metadata": {},
   "source": [
    "OK, find the state with the most mackerels.  Keep a count of mackerels by state, and update it as we go"
   ]
  },
  {
   "cell_type": "code",
   "execution_count": 44,
   "metadata": {},
   "outputs": [],
   "source": [
    "mackerel_count = {}\n",
    "for state in states: mackerel_count[state] = 0"
   ]
  },
  {
   "cell_type": "markdown",
   "metadata": {},
   "source": [
    "OK, count them up.  Just iterate over the word_sets, and for each word_set if it's a mackerel for a state, add it in"
   ]
  },
  {
   "cell_type": "code",
   "execution_count": 45,
   "metadata": {},
   "outputs": [
    {
     "data": {
      "text/plain": [
       "'Result: Top Mackerel Count 11342, states: Ohio'"
      ]
     },
     "execution_count": 45,
     "metadata": {},
     "output_type": "execute_result"
    }
   ],
   "source": [
    "for word_set in word_sets:\n",
    "    mackerel_state = match_only_one_state(word_set)\n",
    "    if (mackerel_state):\n",
    "        mackerel_count[mackerel_state] += 1\n"
   ]
  },
  {
   "cell_type": "code",
   "execution_count": 46,
   "metadata": {},
   "outputs": [
    {
     "data": {
      "text/plain": [
       "'Result: Total Mackerels: 45385, Top Mackerel Count 11342, states: Ohio'"
      ]
     },
     "execution_count": 46,
     "metadata": {},
     "output_type": "execute_result"
    }
   ],
   "source": [
    "mackerel_list = [mackerel_count[state] for state in states]\n",
    "max_mackerels = max(mackerel_list)\n",
    "total_mackerels = sum(mackerel_list)\n",
    "max_mackerel_states = [state for state in states if mackerel_count[state] == max_mackerels]\n",
    "\"Result: Total Mackerels: %d, Top Mackerel Count %d, states: %s\" % (total_mackerels, max_mackerels, ', '.join(max_mackerel_states))"
   ]
  },
  {
   "cell_type": "code",
   "execution_count": null,
   "metadata": {},
   "outputs": [],
   "source": []
  }
 ],
 "metadata": {
  "kernelspec": {
   "display_name": "Python 3",
   "language": "python",
   "name": "python3"
  },
  "language_info": {
   "codemirror_mode": {
    "name": "ipython",
    "version": 3
   },
   "file_extension": ".py",
   "mimetype": "text/x-python",
   "name": "python",
   "nbconvert_exporter": "python",
   "pygments_lexer": "ipython3",
   "version": "3.7.3"
  }
 },
 "nbformat": 4,
 "nbformat_minor": 4
}
